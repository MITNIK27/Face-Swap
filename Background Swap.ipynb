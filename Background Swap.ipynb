{
 "cells": [
  {
   "cell_type": "code",
   "execution_count": 5,
   "id": "5482c7b4-dfa8-4e9f-aeb7-dd26ccb489ac",
   "metadata": {},
   "outputs": [
    {
     "name": "stdout",
     "output_type": "stream",
     "text": [
      "Collecting rembg\n",
      "  Obtaining dependency information for rembg from https://files.pythonhosted.org/packages/80/f3/426699cd8324c7735d626e3dd026e7ed1633cb1cd9435b41ea7d84f509d6/rembg-2.0.59-py3-none-any.whl.metadata\n",
      "  Downloading rembg-2.0.59-py3-none-any.whl.metadata (17 kB)\n",
      "Requirement already satisfied: jsonschema in c:\\users\\parth\\anaconda3\\lib\\site-packages (from rembg) (4.19.2)\n",
      "Requirement already satisfied: numpy in c:\\users\\parth\\anaconda3\\lib\\site-packages (from rembg) (1.26.4)\n",
      "Collecting onnxruntime (from rembg)\n",
      "  Obtaining dependency information for onnxruntime from https://files.pythonhosted.org/packages/78/86/fd21288f9e4096d9c27bd0f221cb61719baa97d5e187549a9f0e84e386ae/onnxruntime-1.19.0-cp311-cp311-win_amd64.whl.metadata\n",
      "  Downloading onnxruntime-1.19.0-cp311-cp311-win_amd64.whl.metadata (4.5 kB)\n",
      "Requirement already satisfied: opencv-python-headless in c:\\users\\parth\\appdata\\roaming\\python\\python311\\site-packages (from rembg) (4.10.0.84)\n",
      "Requirement already satisfied: pillow in c:\\users\\parth\\anaconda3\\lib\\site-packages (from rembg) (10.4.0)\n",
      "Requirement already satisfied: pooch in c:\\users\\parth\\anaconda3\\lib\\site-packages (from rembg) (1.8.2)\n",
      "Collecting pymatting (from rembg)\n",
      "  Obtaining dependency information for pymatting from https://files.pythonhosted.org/packages/46/aa/d7ff530c33c654263d8775ceb50a73f636fc65edbdf09e102c47a3be391b/PyMatting-1.1.12-py3-none-any.whl.metadata\n",
      "  Downloading PyMatting-1.1.12-py3-none-any.whl.metadata (7.4 kB)\n",
      "Requirement already satisfied: scikit-image in c:\\users\\parth\\anaconda3\\lib\\site-packages (from rembg) (0.23.2)\n",
      "Requirement already satisfied: scipy in c:\\users\\parth\\anaconda3\\lib\\site-packages (from rembg) (1.13.1)\n",
      "Requirement already satisfied: tqdm in c:\\users\\parth\\anaconda3\\lib\\site-packages (from rembg) (4.66.5)\n",
      "Requirement already satisfied: attrs>=22.2.0 in c:\\users\\parth\\anaconda3\\lib\\site-packages (from jsonschema->rembg) (23.1.0)\n",
      "Requirement already satisfied: jsonschema-specifications>=2023.03.6 in c:\\users\\parth\\anaconda3\\lib\\site-packages (from jsonschema->rembg) (2023.7.1)\n",
      "Requirement already satisfied: referencing>=0.28.4 in c:\\users\\parth\\anaconda3\\lib\\site-packages (from jsonschema->rembg) (0.30.2)\n",
      "Requirement already satisfied: rpds-py>=0.7.1 in c:\\users\\parth\\anaconda3\\lib\\site-packages (from jsonschema->rembg) (0.10.6)\n",
      "Collecting coloredlogs (from onnxruntime->rembg)\n",
      "  Obtaining dependency information for coloredlogs from https://files.pythonhosted.org/packages/a7/06/3d6badcf13db419e25b07041d9c7b4a2c331d3f4e7134445ec5df57714cd/coloredlogs-15.0.1-py2.py3-none-any.whl.metadata\n",
      "  Downloading coloredlogs-15.0.1-py2.py3-none-any.whl.metadata (12 kB)\n",
      "Requirement already satisfied: flatbuffers in c:\\users\\parth\\anaconda3\\lib\\site-packages (from onnxruntime->rembg) (24.3.25)\n",
      "Requirement already satisfied: packaging in c:\\users\\parth\\anaconda3\\lib\\site-packages (from onnxruntime->rembg) (24.1)\n",
      "Requirement already satisfied: protobuf in c:\\users\\parth\\anaconda3\\lib\\site-packages (from onnxruntime->rembg) (4.25.3)\n",
      "Requirement already satisfied: sympy in c:\\users\\parth\\anaconda3\\lib\\site-packages (from onnxruntime->rembg) (1.12)\n",
      "Requirement already satisfied: platformdirs>=2.5.0 in c:\\users\\parth\\anaconda3\\lib\\site-packages (from pooch->rembg) (3.10.0)\n",
      "Requirement already satisfied: requests>=2.19.0 in c:\\users\\parth\\anaconda3\\lib\\site-packages (from pooch->rembg) (2.32.3)\n",
      "Requirement already satisfied: numba!=0.49.0 in c:\\users\\parth\\anaconda3\\lib\\site-packages (from pymatting->rembg) (0.60.0)\n",
      "Requirement already satisfied: networkx>=2.8 in c:\\users\\parth\\anaconda3\\lib\\site-packages (from scikit-image->rembg) (3.3)\n",
      "Requirement already satisfied: imageio>=2.33 in c:\\users\\parth\\anaconda3\\lib\\site-packages (from scikit-image->rembg) (2.33.1)\n",
      "Requirement already satisfied: tifffile>=2022.8.12 in c:\\users\\parth\\anaconda3\\lib\\site-packages (from scikit-image->rembg) (2023.4.12)\n",
      "Requirement already satisfied: lazy-loader>=0.4 in c:\\users\\parth\\anaconda3\\lib\\site-packages (from scikit-image->rembg) (0.4)\n",
      "Requirement already satisfied: colorama in c:\\users\\parth\\anaconda3\\lib\\site-packages (from tqdm->rembg) (0.4.6)\n",
      "Requirement already satisfied: llvmlite<0.44,>=0.43.0dev0 in c:\\users\\parth\\anaconda3\\lib\\site-packages (from numba!=0.49.0->pymatting->rembg) (0.43.0)\n",
      "Requirement already satisfied: charset-normalizer<4,>=2 in c:\\users\\parth\\anaconda3\\lib\\site-packages (from requests>=2.19.0->pooch->rembg) (3.3.2)\n",
      "Requirement already satisfied: idna<4,>=2.5 in c:\\users\\parth\\anaconda3\\lib\\site-packages (from requests>=2.19.0->pooch->rembg) (3.7)\n",
      "Requirement already satisfied: urllib3<3,>=1.21.1 in c:\\users\\parth\\anaconda3\\lib\\site-packages (from requests>=2.19.0->pooch->rembg) (2.2.2)\n",
      "Requirement already satisfied: certifi>=2017.4.17 in c:\\users\\parth\\anaconda3\\lib\\site-packages (from requests>=2.19.0->pooch->rembg) (2024.7.4)\n",
      "Collecting humanfriendly>=9.1 (from coloredlogs->onnxruntime->rembg)\n",
      "  Obtaining dependency information for humanfriendly>=9.1 from https://files.pythonhosted.org/packages/f0/0f/310fb31e39e2d734ccaa2c0fb981ee41f7bd5056ce9bc29b2248bd569169/humanfriendly-10.0-py2.py3-none-any.whl.metadata\n",
      "  Downloading humanfriendly-10.0-py2.py3-none-any.whl.metadata (9.2 kB)\n",
      "Requirement already satisfied: mpmath>=0.19 in c:\\users\\parth\\anaconda3\\lib\\site-packages (from sympy->onnxruntime->rembg) (1.3.0)\n",
      "Collecting pyreadline3 (from humanfriendly>=9.1->coloredlogs->onnxruntime->rembg)\n",
      "  Obtaining dependency information for pyreadline3 from https://files.pythonhosted.org/packages/56/fc/a3c13ded7b3057680c8ae95a9b6cc83e63657c38e0005c400a5d018a33a7/pyreadline3-3.4.1-py3-none-any.whl.metadata\n",
      "  Downloading pyreadline3-3.4.1-py3-none-any.whl.metadata (2.0 kB)\n",
      "Downloading rembg-2.0.59-py3-none-any.whl (39 kB)\n",
      "Downloading onnxruntime-1.19.0-cp311-cp311-win_amd64.whl (11.1 MB)\n",
      "   ---------------------------------------- 0.0/11.1 MB ? eta -:--:--\n",
      "    --------------------------------------- 0.3/11.1 MB 7.9 MB/s eta 0:00:02\n",
      "   -- ------------------------------------- 0.6/11.1 MB 7.2 MB/s eta 0:00:02\n",
      "   --- ------------------------------------ 0.9/11.1 MB 7.1 MB/s eta 0:00:02\n",
      "   ---- ----------------------------------- 1.3/11.1 MB 7.3 MB/s eta 0:00:02\n",
      "   ----- ---------------------------------- 1.6/11.1 MB 7.2 MB/s eta 0:00:02\n",
      "   ------- -------------------------------- 1.9/11.1 MB 7.3 MB/s eta 0:00:02\n",
      "   -------- ------------------------------- 2.4/11.1 MB 7.5 MB/s eta 0:00:02\n",
      "   --------- ------------------------------ 2.6/11.1 MB 7.2 MB/s eta 0:00:02\n",
      "   ---------- ----------------------------- 2.9/11.1 MB 7.1 MB/s eta 0:00:02\n",
      "   ----------- ---------------------------- 3.1/11.1 MB 6.7 MB/s eta 0:00:02\n",
      "   ------------ --------------------------- 3.4/11.1 MB 6.8 MB/s eta 0:00:02\n",
      "   ------------- -------------------------- 3.6/11.1 MB 6.4 MB/s eta 0:00:02\n",
      "   ------------- -------------------------- 3.8/11.1 MB 6.4 MB/s eta 0:00:02\n",
      "   -------------- ------------------------- 4.0/11.1 MB 6.1 MB/s eta 0:00:02\n",
      "   --------------- ------------------------ 4.2/11.1 MB 5.9 MB/s eta 0:00:02\n",
      "   --------------- ------------------------ 4.3/11.1 MB 5.9 MB/s eta 0:00:02\n",
      "   ---------------- ----------------------- 4.5/11.1 MB 5.6 MB/s eta 0:00:02\n",
      "   ---------------- ----------------------- 4.6/11.1 MB 5.6 MB/s eta 0:00:02\n",
      "   ----------------- ---------------------- 4.7/11.1 MB 5.3 MB/s eta 0:00:02\n",
      "   ----------------- ---------------------- 4.9/11.1 MB 5.2 MB/s eta 0:00:02\n",
      "   ------------------ --------------------- 5.0/11.1 MB 5.1 MB/s eta 0:00:02\n",
      "   ------------------ --------------------- 5.2/11.1 MB 5.0 MB/s eta 0:00:02\n",
      "   ------------------- -------------------- 5.3/11.1 MB 4.9 MB/s eta 0:00:02\n",
      "   ------------------- -------------------- 5.5/11.1 MB 4.9 MB/s eta 0:00:02\n",
      "   -------------------- ------------------- 5.7/11.1 MB 4.8 MB/s eta 0:00:02\n",
      "   --------------------- ------------------ 5.8/11.1 MB 4.8 MB/s eta 0:00:02\n",
      "   --------------------- ------------------ 6.0/11.1 MB 4.8 MB/s eta 0:00:02\n",
      "   ---------------------- ----------------- 6.2/11.1 MB 4.7 MB/s eta 0:00:02\n",
      "   ----------------------- ---------------- 6.4/11.1 MB 4.7 MB/s eta 0:00:02\n",
      "   ----------------------- ---------------- 6.6/11.1 MB 4.7 MB/s eta 0:00:01\n",
      "   ------------------------ --------------- 6.8/11.1 MB 4.6 MB/s eta 0:00:01\n",
      "   ------------------------- -------------- 7.0/11.1 MB 4.6 MB/s eta 0:00:01\n",
      "   -------------------------- ------------- 7.2/11.1 MB 4.7 MB/s eta 0:00:01\n",
      "   -------------------------- ------------- 7.5/11.1 MB 4.6 MB/s eta 0:00:01\n",
      "   --------------------------- ------------ 7.7/11.1 MB 4.6 MB/s eta 0:00:01\n",
      "   ---------------------------- ----------- 7.9/11.1 MB 4.6 MB/s eta 0:00:01\n",
      "   ----------------------------- ---------- 8.2/11.1 MB 4.7 MB/s eta 0:00:01\n",
      "   ------------------------------ --------- 8.3/11.1 MB 4.6 MB/s eta 0:00:01\n",
      "   ------------------------------ --------- 8.6/11.1 MB 4.6 MB/s eta 0:00:01\n",
      "   ------------------------------- -------- 8.8/11.1 MB 4.7 MB/s eta 0:00:01\n",
      "   -------------------------------- ------- 9.0/11.1 MB 4.7 MB/s eta 0:00:01\n",
      "   --------------------------------- ------ 9.2/11.1 MB 4.6 MB/s eta 0:00:01\n",
      "   ---------------------------------- ----- 9.5/11.1 MB 4.7 MB/s eta 0:00:01\n",
      "   ---------------------------------- ----- 9.7/11.1 MB 4.6 MB/s eta 0:00:01\n",
      "   ----------------------------------- ---- 9.9/11.1 MB 4.6 MB/s eta 0:00:01\n",
      "   ------------------------------------ --- 10.0/11.1 MB 4.6 MB/s eta 0:00:01\n",
      "   ------------------------------------ --- 10.2/11.1 MB 4.6 MB/s eta 0:00:01\n",
      "   ------------------------------------- -- 10.4/11.1 MB 4.6 MB/s eta 0:00:01\n",
      "   -------------------------------------- - 10.5/11.1 MB 4.6 MB/s eta 0:00:01\n",
      "   -------------------------------------- - 10.7/11.1 MB 4.5 MB/s eta 0:00:01\n",
      "   ---------------------------------------  10.9/11.1 MB 4.5 MB/s eta 0:00:01\n",
      "   ---------------------------------------  11.1/11.1 MB 4.5 MB/s eta 0:00:01\n",
      "   ---------------------------------------- 11.1/11.1 MB 4.4 MB/s eta 0:00:00\n",
      "Downloading PyMatting-1.1.12-py3-none-any.whl (52 kB)\n",
      "   ---------------------------------------- 0.0/53.0 kB ? eta -:--:--\n",
      "   ---------------------------------------- 53.0/53.0 kB ? eta 0:00:00\n",
      "Downloading coloredlogs-15.0.1-py2.py3-none-any.whl (46 kB)\n",
      "   ---------------------------------------- 0.0/46.0 kB ? eta -:--:--\n",
      "   ---------------------------------------- 46.0/46.0 kB ? eta 0:00:00\n",
      "Downloading humanfriendly-10.0-py2.py3-none-any.whl (86 kB)\n",
      "   ---------------------------------------- 0.0/86.8 kB ? eta -:--:--\n",
      "   ---------------------------------------- 86.8/86.8 kB ? eta 0:00:00\n",
      "Downloading pyreadline3-3.4.1-py3-none-any.whl (95 kB)\n",
      "   ---------------------------------------- 0.0/95.2 kB ? eta -:--:--\n",
      "   ---------------------------------------- 95.2/95.2 kB ? eta 0:00:00\n",
      "Installing collected packages: pyreadline3, humanfriendly, pymatting, coloredlogs, onnxruntime, rembg\n",
      "Successfully installed coloredlogs-15.0.1 humanfriendly-10.0 onnxruntime-1.19.0 pymatting-1.1.12 pyreadline3-3.4.1 rembg-2.0.59\n",
      "Note: you may need to restart the kernel to use updated packages.\n"
     ]
    }
   ],
   "source": [
    "pip install rembg\n"
   ]
  },
  {
   "cell_type": "code",
   "execution_count": 7,
   "id": "6f6e2656-a3f5-49be-a00e-de9416f243f8",
   "metadata": {},
   "outputs": [],
   "source": [
    "from rembg import remove\n",
    "import cv2\n",
    "import numpy as np"
   ]
  },
  {
   "cell_type": "code",
   "execution_count": 8,
   "id": "5d8ddf8c-3495-497a-a83e-0500e260e5d7",
   "metadata": {},
   "outputs": [],
   "source": [
    "# Load target image and new background image\n",
    "target_img = cv2.imread('target.jpg')\n",
    "background_img = cv2.imread('background.jpg')"
   ]
  },
  {
   "cell_type": "code",
   "execution_count": 9,
   "id": "65c5de86-e562-4990-9508-45ce5984fd8e",
   "metadata": {},
   "outputs": [],
   "source": [
    "# Remove background from target image\n",
    "target_img_rgb = cv2.cvtColor(target_img, cv2.COLOR_BGR2RGB)\n",
    "target_img_no_bg = remove(target_img_rgb)"
   ]
  },
  {
   "cell_type": "code",
   "execution_count": 10,
   "id": "cf963360-e161-4d2f-a498-f2554d205ceb",
   "metadata": {},
   "outputs": [],
   "source": [
    "# Convert to BGR format for OpenCV\n",
    "target_img_no_bg_bgr = cv2.cvtColor(np.array(target_img_no_bg), cv2.COLOR_RGB2BGR)"
   ]
  },
  {
   "cell_type": "code",
   "execution_count": 11,
   "id": "d8b26fcb-24d2-4333-b461-83f1cc06ea5b",
   "metadata": {},
   "outputs": [],
   "source": [
    "# Resize background image to match target image size\n",
    "background_img_resized = cv2.resize(background_img, (target_img.shape[1], target_img.shape[0]))"
   ]
  },
  {
   "cell_type": "code",
   "execution_count": 12,
   "id": "9d12c7b0-9b7e-4a1d-af1c-a9b3673224c5",
   "metadata": {},
   "outputs": [],
   "source": [
    "\n",
    "# Create mask and apply it to combine foreground with new background\n",
    "mask = cv2.inRange(target_img_no_bg_bgr, (1, 1, 1), (255, 255, 255))\n",
    "mask_inv = cv2.bitwise_not(mask)\n",
    "foreground = cv2.bitwise_and(target_img, target_img, mask=mask)\n",
    "background = cv2.bitwise_and(background_img_resized, background_img_resized, mask=mask_inv)\n",
    "result = cv2.add(foreground, background)\n",
    "\n"
   ]
  },
  {
   "cell_type": "code",
   "execution_count": 13,
   "id": "0a7451c5-b7d9-4757-9e8c-f69ff5ed61d2",
   "metadata": {},
   "outputs": [
    {
     "data": {
      "text/plain": [
       "True"
      ]
     },
     "execution_count": 13,
     "metadata": {},
     "output_type": "execute_result"
    }
   ],
   "source": [
    "# Save and display the result\n",
    "cv2.imwrite('output_with_new_background.jpg', result)"
   ]
  },
  {
   "cell_type": "code",
   "execution_count": null,
   "id": "9165d55d-f885-4279-940e-e19680107c79",
   "metadata": {},
   "outputs": [],
   "source": []
  },
  {
   "cell_type": "code",
   "execution_count": null,
   "id": "ad89e363-9d16-4862-8592-7ec74e63972b",
   "metadata": {},
   "outputs": [],
   "source": []
  }
 ],
 "metadata": {
  "kernelspec": {
   "display_name": "Python 3 (ipykernel)",
   "language": "python",
   "name": "python3"
  },
  "language_info": {
   "codemirror_mode": {
    "name": "ipython",
    "version": 3
   },
   "file_extension": ".py",
   "mimetype": "text/x-python",
   "name": "python",
   "nbconvert_exporter": "python",
   "pygments_lexer": "ipython3",
   "version": "3.11.5"
  }
 },
 "nbformat": 4,
 "nbformat_minor": 5
}
